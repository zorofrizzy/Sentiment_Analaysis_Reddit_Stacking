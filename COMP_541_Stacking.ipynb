{
 "cells": [
  {
   "cell_type": "code",
   "execution_count": 7,
   "id": "3cbfe1d6",
   "metadata": {},
   "outputs": [],
   "source": [
    "import joblib\n",
    "import pickle\n",
    "import pandas as pd\n",
    "import numpy as np\n",
    "from sklearn.metrics import f1_score, accuracy_score, confusion_matrix\n",
    "import seaborn as sns\n",
    "import matplotlib.pyplot as plt\n",
    "from catboost import CatBoostClassifier"
   ]
  },
  {
   "cell_type": "code",
   "execution_count": 2,
   "id": "c74547b8",
   "metadata": {},
   "outputs": [],
   "source": [
    "#Load CSV \n",
    "\n",
    "test_data = pd.read_csv(r'F:\\Kabir\\CSUN\\R\\testing_data_final.csv')"
   ]
  },
  {
   "cell_type": "code",
   "execution_count": 3,
   "id": "c41c1441",
   "metadata": {},
   "outputs": [
    {
     "data": {
      "text/html": [
       "<div>\n",
       "<style scoped>\n",
       "    .dataframe tbody tr th:only-of-type {\n",
       "        vertical-align: middle;\n",
       "    }\n",
       "\n",
       "    .dataframe tbody tr th {\n",
       "        vertical-align: top;\n",
       "    }\n",
       "\n",
       "    .dataframe thead th {\n",
       "        text-align: right;\n",
       "    }\n",
       "</style>\n",
       "<table border=\"1\" class=\"dataframe\">\n",
       "  <thead>\n",
       "    <tr style=\"text-align: right;\">\n",
       "      <th></th>\n",
       "      <th>sentiment_class</th>\n",
       "      <th>aake</th>\n",
       "      <th>aapki</th>\n",
       "      <th>aapse</th>\n",
       "      <th>abhorrent</th>\n",
       "      <th>ability</th>\n",
       "      <th>abject</th>\n",
       "      <th>able</th>\n",
       "      <th>abomination</th>\n",
       "      <th>abrasive</th>\n",
       "      <th>...</th>\n",
       "      <th>zoo</th>\n",
       "      <th>zoom</th>\n",
       "      <th>zoomedin</th>\n",
       "      <th>zoomers</th>\n",
       "      <th>zooming</th>\n",
       "      <th>zz</th>\n",
       "      <th>zürich</th>\n",
       "      <th>äckligt</th>\n",
       "      <th>åt</th>\n",
       "      <th>punctuation_percent</th>\n",
       "    </tr>\n",
       "  </thead>\n",
       "  <tbody>\n",
       "    <tr>\n",
       "      <th>0</th>\n",
       "      <td>positive</td>\n",
       "      <td>0.0</td>\n",
       "      <td>0.0</td>\n",
       "      <td>0.0</td>\n",
       "      <td>0.0</td>\n",
       "      <td>0.0</td>\n",
       "      <td>0.0</td>\n",
       "      <td>0.0</td>\n",
       "      <td>0.0</td>\n",
       "      <td>0.0</td>\n",
       "      <td>...</td>\n",
       "      <td>0.0</td>\n",
       "      <td>0.0</td>\n",
       "      <td>0.0</td>\n",
       "      <td>0.0</td>\n",
       "      <td>0.0</td>\n",
       "      <td>0.0</td>\n",
       "      <td>0.0</td>\n",
       "      <td>0.0</td>\n",
       "      <td>0.0</td>\n",
       "      <td>2.06</td>\n",
       "    </tr>\n",
       "    <tr>\n",
       "      <th>1</th>\n",
       "      <td>neutral</td>\n",
       "      <td>0.0</td>\n",
       "      <td>0.0</td>\n",
       "      <td>0.0</td>\n",
       "      <td>0.0</td>\n",
       "      <td>0.0</td>\n",
       "      <td>0.0</td>\n",
       "      <td>0.0</td>\n",
       "      <td>0.0</td>\n",
       "      <td>0.0</td>\n",
       "      <td>...</td>\n",
       "      <td>0.0</td>\n",
       "      <td>0.0</td>\n",
       "      <td>0.0</td>\n",
       "      <td>0.0</td>\n",
       "      <td>0.0</td>\n",
       "      <td>0.0</td>\n",
       "      <td>0.0</td>\n",
       "      <td>0.0</td>\n",
       "      <td>0.0</td>\n",
       "      <td>4.08</td>\n",
       "    </tr>\n",
       "  </tbody>\n",
       "</table>\n",
       "<p>2 rows × 6245 columns</p>\n",
       "</div>"
      ],
      "text/plain": [
       "  sentiment_class  aake  aapki  aapse  abhorrent  ability  abject  able  \\\n",
       "0        positive   0.0    0.0    0.0        0.0      0.0     0.0   0.0   \n",
       "1         neutral   0.0    0.0    0.0        0.0      0.0     0.0   0.0   \n",
       "\n",
       "   abomination  abrasive  ...  zoo  zoom  zoomedin  zoomers  zooming   zz  \\\n",
       "0          0.0       0.0  ...  0.0   0.0       0.0      0.0      0.0  0.0   \n",
       "1          0.0       0.0  ...  0.0   0.0       0.0      0.0      0.0  0.0   \n",
       "\n",
       "   zürich  äckligt   åt  punctuation_percent  \n",
       "0     0.0      0.0  0.0                 2.06  \n",
       "1     0.0      0.0  0.0                 4.08  \n",
       "\n",
       "[2 rows x 6245 columns]"
      ]
     },
     "execution_count": 3,
     "metadata": {},
     "output_type": "execute_result"
    }
   ],
   "source": [
    "test_data.head(2)"
   ]
  },
  {
   "cell_type": "code",
   "execution_count": 4,
   "id": "b53aa3e9",
   "metadata": {},
   "outputs": [],
   "source": [
    "# Defining class mappings\n",
    "class_mapping = {'positive': 2, 'neutral': 1, 'negative': 0}\n",
    "\n",
    "# Extract features (TF-IDF vectors) and labels from test data\n",
    "X_test = test_data.drop(columns=['sentiment_class'])\n",
    "y_test = test_data['sentiment_class'].map(class_mapping)"
   ]
  },
  {
   "cell_type": "code",
   "execution_count": 21,
   "id": "34a904f5",
   "metadata": {},
   "outputs": [
    {
     "data": {
      "text/plain": [
       "<catboost.core.CatBoostClassifier at 0x1d982bd8050>"
      ]
     },
     "execution_count": 21,
     "metadata": {},
     "output_type": "execute_result"
    }
   ],
   "source": [
    "#Loading CatBoost, Random Forest & SVM Models\n",
    "\n",
    "svm_model = joblib.load(r'F:\\Kabir\\CSUN\\R\\svm_model_2.pkl')\n",
    "rf_model = joblib.load(r'F:\\Kabir\\CSUN\\R\\random_forest_model.joblib')\n",
    "catboost_model = CatBoostClassifier()\n",
    "catboost_model.load_model(r'F:\\Kabir\\CSUN\\R\\catboost_model.dump')\n"
   ]
  },
  {
   "cell_type": "code",
   "execution_count": 22,
   "id": "7a7041c8",
   "metadata": {},
   "outputs": [],
   "source": [
    "#Predictions\n",
    "\n",
    "# Perform predictions using each model\n",
    "svm_preds = svm_model.predict(X_test)\n",
    "rf_preds = rf_model.predict(X_test)\n",
    "catboost_preds = catboost_model.predict(X_test)"
   ]
  },
  {
   "cell_type": "code",
   "execution_count": 24,
   "id": "e2ee20cc",
   "metadata": {},
   "outputs": [],
   "source": [
    "#Storing into 1 df.\n",
    "preds_df = pd.DataFrame({\n",
    "    'SVM': svm_preds.ravel(),  # Ensuring the array is 1-dimensional\n",
    "    'Random Forest': rf_preds.ravel(),  # Ensuring the array is 1-dimensional\n",
    "    'CatBoost': catboost_preds.ravel()  # Ensuring the array is 1-dimensional\n",
    "})"
   ]
  },
  {
   "cell_type": "code",
   "execution_count": 25,
   "id": "63daa463",
   "metadata": {},
   "outputs": [],
   "source": [
    "#Max voting\n",
    "stacking_preds = preds_df.mode(axis=1)[0]\n"
   ]
  },
  {
   "cell_type": "code",
   "execution_count": 28,
   "id": "d75574d1",
   "metadata": {},
   "outputs": [],
   "source": [
    "#Evaluation\n",
    "\n",
    "f1 = f1_score(y_test, stacking_preds, average='weighted')\n",
    "accuracy = accuracy_score(y_test, stacking_preds)\n",
    "conf_matrix = confusion_matrix(y_test, stacking_preds)\n"
   ]
  },
  {
   "cell_type": "code",
   "execution_count": 29,
   "id": "ef9c802f",
   "metadata": {},
   "outputs": [
    {
     "name": "stdout",
     "output_type": "stream",
     "text": [
      "F1 Score: 0.7312079623380815\n",
      "Accuracy: 0.7382352941176471\n"
     ]
    }
   ],
   "source": [
    "print(\"F1 Score:\", f1)\n",
    "print(\"Accuracy:\", accuracy)\n"
   ]
  },
  {
   "cell_type": "code",
   "execution_count": 31,
   "id": "d99ba854",
   "metadata": {},
   "outputs": [
    {
     "data": {
      "image/png": "[encoded data removed]",
      "text/plain": [
       "<Figure size 1000x800 with 2 Axes>"
      ]
     },
     "metadata": {},
     "output_type": "display_data"
    }
   ],
   "source": [
    "#Plot Confusion Matrix\n",
    "\n",
    "plt.figure(figsize=(10, 8))\n",
    "sns.heatmap(conf_matrix, annot=True, fmt='d', cmap='Blues',\n",
    "           xticklabels=class_mapping.keys(), yticklabels=class_mapping.keys())\n",
    "plt.xlabel('Predicted')\n",
    "plt.ylabel('True')\n",
    "plt.title('Confusion Matrix')\n",
    "plt.show()"
   ]
  },
  {
   "cell_type": "code",
   "execution_count": null,
   "id": "2848e590",
   "metadata": {},
   "outputs": [],
   "source": []
  }
 ],
 "metadata": {
  "kernelspec": {
   "display_name": "Python 3 (ipykernel)",
   "language": "python",
   "name": "python3"
  },
  "language_info": {
   "codemirror_mode": {
    "name": "ipython",
    "version": 3
   },
   "file_extension": ".py",
   "mimetype": "text/x-python",
   "name": "python",
   "nbconvert_exporter": "python",
   "pygments_lexer": "ipython3",
   "version": "3.11.4"
  }
 },
 "nbformat": 4,
 "nbformat_minor": 5
}
