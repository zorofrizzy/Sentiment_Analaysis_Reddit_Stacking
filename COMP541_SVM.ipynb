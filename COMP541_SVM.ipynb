{
 "cells": [
  {
   "cell_type": "code",
   "execution_count": 14,
   "id": "02b42c26",
   "metadata": {},
   "outputs": [],
   "source": [
    "import os\n",
    "import sys\n",
    "import pandas as pd\n",
    "from sklearn.svm import SVC\n",
    "from sklearn.metrics import accuracy_score, classification_report, confusion_matrix, f1_score\n",
    "import time\n",
    "import seaborn as sns\n",
    "import joblib\n",
    "import matplotlib.pyplot as plt\n",
    "from joblib import dump\n",
    "\n",
    "#Optimization\n",
    "from sklearn.model_selection import GridSearchCV\n"
   ]
  },
  {
   "cell_type": "code",
   "execution_count": 2,
   "id": "74ef690c",
   "metadata": {},
   "outputs": [],
   "source": [
    "# Loading train and test data CSV files\n",
    "train_data = pd.read_csv(os.path.join(r'F:\\Kabir\\CSUN\\R','training_data_final.csv'))\n",
    "test_data = pd.read_csv(os.path.join(r'F:\\Kabir\\CSUN\\R','testing_data_final.csv'))"
   ]
  },
  {
   "cell_type": "code",
   "execution_count": 3,
   "id": "b83d0664",
   "metadata": {},
   "outputs": [
    {
     "data": {
      "text/html": [
       "<div>\n",
       "<style scoped>\n",
       "    .dataframe tbody tr th:only-of-type {\n",
       "        vertical-align: middle;\n",
       "    }\n",
       "\n",
       "    .dataframe tbody tr th {\n",
       "        vertical-align: top;\n",
       "    }\n",
       "\n",
       "    .dataframe thead th {\n",
       "        text-align: right;\n",
       "    }\n",
       "</style>\n",
       "<table border=\"1\" class=\"dataframe\">\n",
       "  <thead>\n",
       "    <tr style=\"text-align: right;\">\n",
       "      <th></th>\n",
       "      <th>sentiment_class</th>\n",
       "      <th>aake</th>\n",
       "      <th>aapki</th>\n",
       "      <th>aapse</th>\n",
       "      <th>abhorrent</th>\n",
       "      <th>ability</th>\n",
       "      <th>abject</th>\n",
       "      <th>able</th>\n",
       "      <th>abomination</th>\n",
       "      <th>abrasive</th>\n",
       "      <th>...</th>\n",
       "      <th>zoo</th>\n",
       "      <th>zoom</th>\n",
       "      <th>zoomedin</th>\n",
       "      <th>zoomers</th>\n",
       "      <th>zooming</th>\n",
       "      <th>zz</th>\n",
       "      <th>zürich</th>\n",
       "      <th>äckligt</th>\n",
       "      <th>åt</th>\n",
       "      <th>punctuation_percent</th>\n",
       "    </tr>\n",
       "  </thead>\n",
       "  <tbody>\n",
       "    <tr>\n",
       "      <th>0</th>\n",
       "      <td>negative</td>\n",
       "      <td>0.0</td>\n",
       "      <td>0.0</td>\n",
       "      <td>0.0</td>\n",
       "      <td>0.0</td>\n",
       "      <td>0.0</td>\n",
       "      <td>0.0</td>\n",
       "      <td>0.0</td>\n",
       "      <td>0.0</td>\n",
       "      <td>0.0</td>\n",
       "      <td>...</td>\n",
       "      <td>0.0</td>\n",
       "      <td>0.0</td>\n",
       "      <td>0.0</td>\n",
       "      <td>0.0</td>\n",
       "      <td>0.0</td>\n",
       "      <td>0.0</td>\n",
       "      <td>0.0</td>\n",
       "      <td>0.0</td>\n",
       "      <td>0.0</td>\n",
       "      <td>2.26</td>\n",
       "    </tr>\n",
       "    <tr>\n",
       "      <th>1</th>\n",
       "      <td>positive</td>\n",
       "      <td>0.0</td>\n",
       "      <td>0.0</td>\n",
       "      <td>0.0</td>\n",
       "      <td>0.0</td>\n",
       "      <td>0.0</td>\n",
       "      <td>0.0</td>\n",
       "      <td>0.0</td>\n",
       "      <td>0.0</td>\n",
       "      <td>0.0</td>\n",
       "      <td>...</td>\n",
       "      <td>0.0</td>\n",
       "      <td>0.0</td>\n",
       "      <td>0.0</td>\n",
       "      <td>0.0</td>\n",
       "      <td>0.0</td>\n",
       "      <td>0.0</td>\n",
       "      <td>0.0</td>\n",
       "      <td>0.0</td>\n",
       "      <td>0.0</td>\n",
       "      <td>0.00</td>\n",
       "    </tr>\n",
       "  </tbody>\n",
       "</table>\n",
       "<p>2 rows × 6245 columns</p>\n",
       "</div>"
      ],
      "text/plain": [
       "  sentiment_class  aake  aapki  aapse  abhorrent  ability  abject  able  \\\n",
       "0        negative   0.0    0.0    0.0        0.0      0.0     0.0   0.0   \n",
       "1        positive   0.0    0.0    0.0        0.0      0.0     0.0   0.0   \n",
       "\n",
       "   abomination  abrasive  ...  zoo  zoom  zoomedin  zoomers  zooming   zz  \\\n",
       "0          0.0       0.0  ...  0.0   0.0       0.0      0.0      0.0  0.0   \n",
       "1          0.0       0.0  ...  0.0   0.0       0.0      0.0      0.0  0.0   \n",
       "\n",
       "   zürich  äckligt   åt  punctuation_percent  \n",
       "0     0.0      0.0  0.0                 2.26  \n",
       "1     0.0      0.0  0.0                 0.00  \n",
       "\n",
       "[2 rows x 6245 columns]"
      ]
     },
     "execution_count": 3,
     "metadata": {},
     "output_type": "execute_result"
    }
   ],
   "source": [
    "train_data.head(2)"
   ]
  },
  {
   "cell_type": "code",
   "execution_count": 4,
   "id": "6079d754",
   "metadata": {},
   "outputs": [
    {
     "data": {
      "text/html": [
       "<div>\n",
       "<style scoped>\n",
       "    .dataframe tbody tr th:only-of-type {\n",
       "        vertical-align: middle;\n",
       "    }\n",
       "\n",
       "    .dataframe tbody tr th {\n",
       "        vertical-align: top;\n",
       "    }\n",
       "\n",
       "    .dataframe thead th {\n",
       "        text-align: right;\n",
       "    }\n",
       "</style>\n",
       "<table border=\"1\" class=\"dataframe\">\n",
       "  <thead>\n",
       "    <tr style=\"text-align: right;\">\n",
       "      <th></th>\n",
       "      <th>sentiment_class</th>\n",
       "      <th>aake</th>\n",
       "      <th>aapki</th>\n",
       "      <th>aapse</th>\n",
       "      <th>abhorrent</th>\n",
       "      <th>ability</th>\n",
       "      <th>abject</th>\n",
       "      <th>able</th>\n",
       "      <th>abomination</th>\n",
       "      <th>abrasive</th>\n",
       "      <th>...</th>\n",
       "      <th>zoo</th>\n",
       "      <th>zoom</th>\n",
       "      <th>zoomedin</th>\n",
       "      <th>zoomers</th>\n",
       "      <th>zooming</th>\n",
       "      <th>zz</th>\n",
       "      <th>zürich</th>\n",
       "      <th>äckligt</th>\n",
       "      <th>åt</th>\n",
       "      <th>punctuation_percent</th>\n",
       "    </tr>\n",
       "  </thead>\n",
       "  <tbody>\n",
       "    <tr>\n",
       "      <th>0</th>\n",
       "      <td>positive</td>\n",
       "      <td>0.0</td>\n",
       "      <td>0.0</td>\n",
       "      <td>0.0</td>\n",
       "      <td>0.0</td>\n",
       "      <td>0.0</td>\n",
       "      <td>0.0</td>\n",
       "      <td>0.0</td>\n",
       "      <td>0.0</td>\n",
       "      <td>0.0</td>\n",
       "      <td>...</td>\n",
       "      <td>0.0</td>\n",
       "      <td>0.0</td>\n",
       "      <td>0.0</td>\n",
       "      <td>0.0</td>\n",
       "      <td>0.0</td>\n",
       "      <td>0.0</td>\n",
       "      <td>0.0</td>\n",
       "      <td>0.0</td>\n",
       "      <td>0.0</td>\n",
       "      <td>2.06</td>\n",
       "    </tr>\n",
       "    <tr>\n",
       "      <th>1</th>\n",
       "      <td>neutral</td>\n",
       "      <td>0.0</td>\n",
       "      <td>0.0</td>\n",
       "      <td>0.0</td>\n",
       "      <td>0.0</td>\n",
       "      <td>0.0</td>\n",
       "      <td>0.0</td>\n",
       "      <td>0.0</td>\n",
       "      <td>0.0</td>\n",
       "      <td>0.0</td>\n",
       "      <td>...</td>\n",
       "      <td>0.0</td>\n",
       "      <td>0.0</td>\n",
       "      <td>0.0</td>\n",
       "      <td>0.0</td>\n",
       "      <td>0.0</td>\n",
       "      <td>0.0</td>\n",
       "      <td>0.0</td>\n",
       "      <td>0.0</td>\n",
       "      <td>0.0</td>\n",
       "      <td>4.08</td>\n",
       "    </tr>\n",
       "  </tbody>\n",
       "</table>\n",
       "<p>2 rows × 6245 columns</p>\n",
       "</div>"
      ],
      "text/plain": [
       "  sentiment_class  aake  aapki  aapse  abhorrent  ability  abject  able  \\\n",
       "0        positive   0.0    0.0    0.0        0.0      0.0     0.0   0.0   \n",
       "1         neutral   0.0    0.0    0.0        0.0      0.0     0.0   0.0   \n",
       "\n",
       "   abomination  abrasive  ...  zoo  zoom  zoomedin  zoomers  zooming   zz  \\\n",
       "0          0.0       0.0  ...  0.0   0.0       0.0      0.0      0.0  0.0   \n",
       "1          0.0       0.0  ...  0.0   0.0       0.0      0.0      0.0  0.0   \n",
       "\n",
       "   zürich  äckligt   åt  punctuation_percent  \n",
       "0     0.0      0.0  0.0                 2.06  \n",
       "1     0.0      0.0  0.0                 4.08  \n",
       "\n",
       "[2 rows x 6245 columns]"
      ]
     },
     "execution_count": 4,
     "metadata": {},
     "output_type": "execute_result"
    }
   ],
   "source": [
    "test_data.head(2)"
   ]
  },
  {
   "cell_type": "code",
   "execution_count": 5,
   "id": "4391da51",
   "metadata": {},
   "outputs": [],
   "source": [
    "# Defining class mappings\n",
    "class_mapping = {'positive': 2, 'neutral': 1, 'negative': 0}\n",
    "\n",
    "# Extract features (TF-IDF vectors) and labels from train data\n",
    "X_train = train_data.drop(columns=['sentiment_class'])\n",
    "y_train = train_data['sentiment_class'].map(class_mapping)\n",
    "\n",
    "# Extract features (TF-IDF vectors) and labels from test data\n",
    "X_test = test_data.drop(columns=['sentiment_class'])\n",
    "y_test = test_data['sentiment_class'].map(class_mapping)"
   ]
  },
  {
   "cell_type": "code",
   "execution_count": 6,
   "id": "4fc952a9",
   "metadata": {},
   "outputs": [],
   "source": [
    "# Initialize SVM model\n",
    "\n",
    "svm_model = SVC()"
   ]
  },
  {
   "cell_type": "code",
   "execution_count": 7,
   "id": "4aa80028",
   "metadata": {},
   "outputs": [
    {
     "name": "stdout",
     "output_type": "stream",
     "text": [
      "Time taken for Hypertuning : 1586.123 seconds\n"
     ]
    }
   ],
   "source": [
    "#Hyperparameterized tuning\n",
    "\n",
    "start_time = time.time()\n",
    "param_grid = {\n",
    "    'C': [ 1, 2, 4, 10],  # Regularization parameter\n",
    "    'kernel': ['linear', 'rbf', 'poly'],  # Kernel type\n",
    "    'gamma': ['scale', 'auto']  # Kernel coefficient for 'rbf' and 'poly'\n",
    "}\n",
    "\n",
    "# Initialize GridSearchCV\n",
    "grid_search = GridSearchCV(estimator=svm_model, param_grid=param_grid, cv=5,\n",
    "                           scoring='accuracy', n_jobs=-1)\n",
    "\n",
    "# Perform grid search\n",
    "grid_search.fit(X_train, y_train)\n",
    "print(\"Time taken for Hypertuning : {} seconds\".format(round(time.time()-start_time, 3)))"
   ]
  },
  {
   "cell_type": "code",
   "execution_count": 8,
   "id": "216cad2c",
   "metadata": {},
   "outputs": [
    {
     "name": "stdout",
     "output_type": "stream",
     "text": [
      "Best Hyperparameters: {'C': 2, 'gamma': 'scale', 'kernel': 'linear'}\n"
     ]
    }
   ],
   "source": [
    "# Get the best hyperparameters\n",
    "\n",
    "best_params = grid_search.best_params_\n",
    "print(\"Best Hyperparameters:\", best_params)"
   ]
  },
  {
   "cell_type": "code",
   "execution_count": 9,
   "id": "fe5bf430",
   "metadata": {},
   "outputs": [
    {
     "data": {
      "text/html": [
       "<div>\n",
       "<style scoped>\n",
       "    .dataframe tbody tr th:only-of-type {\n",
       "        vertical-align: middle;\n",
       "    }\n",
       "\n",
       "    .dataframe tbody tr th {\n",
       "        vertical-align: top;\n",
       "    }\n",
       "\n",
       "    .dataframe thead th {\n",
       "        text-align: right;\n",
       "    }\n",
       "</style>\n",
       "<table border=\"1\" class=\"dataframe\">\n",
       "  <thead>\n",
       "    <tr style=\"text-align: right;\">\n",
       "      <th></th>\n",
       "      <th>aake</th>\n",
       "      <th>aapki</th>\n",
       "      <th>aapse</th>\n",
       "      <th>abhorrent</th>\n",
       "      <th>ability</th>\n",
       "      <th>abject</th>\n",
       "      <th>able</th>\n",
       "      <th>abomination</th>\n",
       "      <th>abrasive</th>\n",
       "      <th>abso</th>\n",
       "      <th>...</th>\n",
       "      <th>zoo</th>\n",
       "      <th>zoom</th>\n",
       "      <th>zoomedin</th>\n",
       "      <th>zoomers</th>\n",
       "      <th>zooming</th>\n",
       "      <th>zz</th>\n",
       "      <th>zürich</th>\n",
       "      <th>äckligt</th>\n",
       "      <th>åt</th>\n",
       "      <th>punctuation_percent</th>\n",
       "    </tr>\n",
       "  </thead>\n",
       "  <tbody>\n",
       "    <tr>\n",
       "      <th>0</th>\n",
       "      <td>0.0</td>\n",
       "      <td>0.0</td>\n",
       "      <td>0.0</td>\n",
       "      <td>0.0</td>\n",
       "      <td>0.0</td>\n",
       "      <td>0.0</td>\n",
       "      <td>0.0</td>\n",
       "      <td>0.0</td>\n",
       "      <td>0.0</td>\n",
       "      <td>0.0</td>\n",
       "      <td>...</td>\n",
       "      <td>0.0</td>\n",
       "      <td>0.0</td>\n",
       "      <td>0.0</td>\n",
       "      <td>0.0</td>\n",
       "      <td>0.0</td>\n",
       "      <td>0.0</td>\n",
       "      <td>0.0</td>\n",
       "      <td>0.0</td>\n",
       "      <td>0.0</td>\n",
       "      <td>2.06</td>\n",
       "    </tr>\n",
       "    <tr>\n",
       "      <th>1</th>\n",
       "      <td>0.0</td>\n",
       "      <td>0.0</td>\n",
       "      <td>0.0</td>\n",
       "      <td>0.0</td>\n",
       "      <td>0.0</td>\n",
       "      <td>0.0</td>\n",
       "      <td>0.0</td>\n",
       "      <td>0.0</td>\n",
       "      <td>0.0</td>\n",
       "      <td>0.0</td>\n",
       "      <td>...</td>\n",
       "      <td>0.0</td>\n",
       "      <td>0.0</td>\n",
       "      <td>0.0</td>\n",
       "      <td>0.0</td>\n",
       "      <td>0.0</td>\n",
       "      <td>0.0</td>\n",
       "      <td>0.0</td>\n",
       "      <td>0.0</td>\n",
       "      <td>0.0</td>\n",
       "      <td>4.08</td>\n",
       "    </tr>\n",
       "  </tbody>\n",
       "</table>\n",
       "<p>2 rows × 6244 columns</p>\n",
       "</div>"
      ],
      "text/plain": [
       "   aake  aapki  aapse  abhorrent  ability  abject  able  abomination  \\\n",
       "0   0.0    0.0    0.0        0.0      0.0     0.0   0.0          0.0   \n",
       "1   0.0    0.0    0.0        0.0      0.0     0.0   0.0          0.0   \n",
       "\n",
       "   abrasive  abso  ...  zoo  zoom  zoomedin  zoomers  zooming   zz  zürich  \\\n",
       "0       0.0   0.0  ...  0.0   0.0       0.0      0.0      0.0  0.0     0.0   \n",
       "1       0.0   0.0  ...  0.0   0.0       0.0      0.0      0.0  0.0     0.0   \n",
       "\n",
       "   äckligt   åt  punctuation_percent  \n",
       "0      0.0  0.0                 2.06  \n",
       "1      0.0  0.0                 4.08  \n",
       "\n",
       "[2 rows x 6244 columns]"
      ]
     },
     "execution_count": 9,
     "metadata": {},
     "output_type": "execute_result"
    }
   ],
   "source": [
    "X_test.head(2)"
   ]
  },
  {
   "cell_type": "code",
   "execution_count": 10,
   "id": "d7fb84ef",
   "metadata": {},
   "outputs": [
    {
     "name": "stdout",
     "output_type": "stream",
     "text": [
      "Accuracy: 0.725\n"
     ]
    }
   ],
   "source": [
    "# Get the best model\n",
    "best_model = grid_search.best_estimator_\n",
    "\n",
    "# Make predictions on the test data using the best model\n",
    "predictions = best_model.predict(X_test)\n",
    "\n",
    "# Evaluate the best model\n",
    "accuracy = accuracy_score(y_test, predictions)\n",
    "print(\"Accuracy:\", accuracy)"
   ]
  },
  {
   "cell_type": "code",
   "execution_count": 11,
   "id": "4798fd22",
   "metadata": {},
   "outputs": [
    {
     "data": {
      "text/plain": [
       "['F:\\\\Kabir\\\\CSUN\\\\R\\\\svm_model_2.pkl']"
      ]
     },
     "execution_count": 11,
     "metadata": {},
     "output_type": "execute_result"
    }
   ],
   "source": [
    "#Dump the model to use for stacking\n",
    "\n",
    "dump(best_model, r'F:\\Kabir\\CSUN\\R\\svm_model_2.pkl')"
   ]
  },
  {
   "cell_type": "code",
   "execution_count": 12,
   "id": "d6168494",
   "metadata": {},
   "outputs": [
    {
     "name": "stdout",
     "output_type": "stream",
     "text": [
      "Confusion Matrix:\n",
      "[[116  12  58]\n",
      " [ 19  83  36]\n",
      " [ 46  16 294]]\n"
     ]
    }
   ],
   "source": [
    "# Generating confusion matrix\n",
    "cm = confusion_matrix(y_test, predictions)\n",
    "print(\"Confusion Matrix:\")\n",
    "print(cm)"
   ]
  },
  {
   "cell_type": "code",
   "execution_count": 15,
   "id": "19986d5b",
   "metadata": {},
   "outputs": [
    {
     "data": {
      "image/png": "[encoded data removed]",
      "text/plain": [
       "<Figure size 800x600 with 2 Axes>"
      ]
     },
     "metadata": {},
     "output_type": "display_data"
    }
   ],
   "source": [
    "# Plot confusion matrix\n",
    "plt.figure(figsize=(8, 6))\n",
    "sns.heatmap(cm, annot=True, fmt='d', cmap='Blues', \n",
    "            xticklabels=class_mapping.keys(), yticklabels=class_mapping.keys())\n",
    "plt.xlabel('Predicted')\n",
    "plt.ylabel('True')\n",
    "plt.title('Confusion Matrix')\n",
    "plt.show()\n",
    "     "
   ]
  },
  {
   "cell_type": "code",
   "execution_count": 16,
   "id": "81ffb856",
   "metadata": {},
   "outputs": [
    {
     "name": "stdout",
     "output_type": "stream",
     "text": [
      "F1 Score: 0.7219635590898045\n"
     ]
    }
   ],
   "source": [
    "# Calculate F1-score\n",
    "f1 = f1_score(y_test, predictions, average='weighted')\n",
    "print(\"F1 Score:\", f1)"
   ]
  },
  {
   "cell_type": "code",
   "execution_count": 18,
   "id": "245bbc39",
   "metadata": {},
   "outputs": [
    {
     "name": "stdout",
     "output_type": "stream",
     "text": [
      "              precision    recall  f1-score   support\n",
      "\n",
      "           0       0.64      0.62      0.63       186\n",
      "           1       0.75      0.60      0.67       138\n",
      "           2       0.76      0.83      0.79       356\n",
      "\n",
      "    accuracy                           0.73       680\n",
      "   macro avg       0.72      0.68      0.70       680\n",
      "weighted avg       0.72      0.72      0.72       680\n",
      "\n"
     ]
    }
   ],
   "source": [
    "print(classification_report(y_test, predictions))"
   ]
  },
  {
   "cell_type": "code",
   "execution_count": null,
   "id": "1e8965f7",
   "metadata": {},
   "outputs": [],
   "source": []
  }
 ],
 "metadata": {
  "kernelspec": {
   "display_name": "Python 3 (ipykernel)",
   "language": "python",
   "name": "python3"
  },
  "language_info": {
   "codemirror_mode": {
    "name": "ipython",
    "version": 3
   },
   "file_extension": ".py",
   "mimetype": "text/x-python",
   "name": "python",
   "nbconvert_exporter": "python",
   "pygments_lexer": "ipython3",
   "version": "3.11.4"
  }
 },
 "nbformat": 4,
 "nbformat_minor": 5
}
