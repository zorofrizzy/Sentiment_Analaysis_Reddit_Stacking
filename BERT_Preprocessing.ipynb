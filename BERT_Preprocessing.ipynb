{
 "cells": [
  {
   "cell_type": "code",
   "execution_count": 1,
   "id": "7558d8ff",
   "metadata": {},
   "outputs": [],
   "source": [
    "import pandas as pd\n",
    "import nltk\n",
    "import re\n",
    "import string\n",
    "import os\n",
    "import sys"
   ]
  },
  {
   "cell_type": "code",
   "execution_count": 5,
   "id": "fe6695c6",
   "metadata": {},
   "outputs": [],
   "source": [
    "df = pd.read_csv(os.path.join(r\"F:\\Kabir\\CSUN\\R\",\"preprocessed_reddit_comments_python_final.csv\"))\n",
    "\n",
    "pd.set_option('display.max_colwidth', 100)"
   ]
  },
  {
   "cell_type": "code",
   "execution_count": 6,
   "id": "359f2ea5",
   "metadata": {},
   "outputs": [
    {
     "data": {
      "text/html": [
       "<div>\n",
       "<style scoped>\n",
       "    .dataframe tbody tr th:only-of-type {\n",
       "        vertical-align: middle;\n",
       "    }\n",
       "\n",
       "    .dataframe tbody tr th {\n",
       "        vertical-align: top;\n",
       "    }\n",
       "\n",
       "    .dataframe thead th {\n",
       "        text-align: right;\n",
       "    }\n",
       "</style>\n",
       "<table border=\"1\" class=\"dataframe\">\n",
       "  <thead>\n",
       "    <tr style=\"text-align: right;\">\n",
       "      <th></th>\n",
       "      <th>POSTNAME</th>\n",
       "      <th>AUTHOR</th>\n",
       "      <th>COMMENT</th>\n",
       "      <th>rejoined_tokenized_comments</th>\n",
       "      <th>sentiment</th>\n",
       "      <th>lemmatized</th>\n",
       "    </tr>\n",
       "  </thead>\n",
       "  <tbody>\n",
       "    <tr>\n",
       "      <th>0</th>\n",
       "      <td>'Immaculate' Review Thread : r/boxoffice</td>\n",
       "      <td>Daydream_machine</td>\n",
       "      <td>Oof that’s admittedly lower than I expected. Disappointed to read that the film relies on cheap ...</td>\n",
       "      <td>oof admittedly lower expected disappointed read film relies cheap jump scare exactly expect horr...</td>\n",
       "      <td>negative</td>\n",
       "      <td>['oof', 'admittedly', 'lower', 'expected', 'disappointed', 'read', 'film', 'relies', 'cheap', 'j...</td>\n",
       "    </tr>\n",
       "    <tr>\n",
       "      <th>1</th>\n",
       "      <td>'Immaculate' Review Thread : r/boxoffice</td>\n",
       "      <td>Interesting_Tie_1870</td>\n",
       "      <td>There is a scene towards the beginning of the movie that does feature a red flashing light. It’s...</td>\n",
       "      <td>scene towards beginning movie feature red flashing light relatively brief easy avoid believe occurs</td>\n",
       "      <td>positive</td>\n",
       "      <td>['scene', 'towards', 'beginning', 'movie', 'feature', 'red', 'flashing', 'light', 'relatively', ...</td>\n",
       "    </tr>\n",
       "  </tbody>\n",
       "</table>\n",
       "</div>"
      ],
      "text/plain": [
       "                                   POSTNAME                AUTHOR  \\\n",
       "0  'Immaculate' Review Thread : r/boxoffice      Daydream_machine   \n",
       "1  'Immaculate' Review Thread : r/boxoffice  Interesting_Tie_1870   \n",
       "\n",
       "                                                                                               COMMENT  \\\n",
       "0  Oof that’s admittedly lower than I expected. Disappointed to read that the film relies on cheap ...   \n",
       "1  There is a scene towards the beginning of the movie that does feature a red flashing light. It’s...   \n",
       "\n",
       "                                                                           rejoined_tokenized_comments  \\\n",
       "0  oof admittedly lower expected disappointed read film relies cheap jump scare exactly expect horr...   \n",
       "1  scene towards beginning movie feature red flashing light relatively brief easy avoid believe occurs   \n",
       "\n",
       "  sentiment  \\\n",
       "0  negative   \n",
       "1  positive   \n",
       "\n",
       "                                                                                            lemmatized  \n",
       "0  ['oof', 'admittedly', 'lower', 'expected', 'disappointed', 'read', 'film', 'relies', 'cheap', 'j...  \n",
       "1  ['scene', 'towards', 'beginning', 'movie', 'feature', 'red', 'flashing', 'light', 'relatively', ...  "
      ]
     },
     "execution_count": 6,
     "metadata": {},
     "output_type": "execute_result"
    }
   ],
   "source": [
    "df.head(2)"
   ]
  },
  {
   "cell_type": "code",
   "execution_count": 12,
   "id": "e63cc6af",
   "metadata": {},
   "outputs": [],
   "source": [
    "def remove_punctuation(column_data):\n",
    "    #Replace URL\n",
    "    column_data = re.sub(r'http\\S+', '', column_data)\n",
    "    column_data = re.sub(r'www\\S+', '', column_data)\n",
    "    #Remove numbers\n",
    "    column_data = re.sub(r'[0-9]+','', column_data)\n",
    "    #tokenize\n",
    "    #column_data = re.split(\"\\W+\", column_data)\n",
    "    return column_data\n",
    "    \n",
    "df['cleaned_text'] = df['COMMENT'].apply(remove_punctuation)"
   ]
  },
  {
   "cell_type": "code",
   "execution_count": 13,
   "id": "f8947e25",
   "metadata": {},
   "outputs": [
    {
     "data": {
      "text/html": [
       "<div>\n",
       "<style scoped>\n",
       "    .dataframe tbody tr th:only-of-type {\n",
       "        vertical-align: middle;\n",
       "    }\n",
       "\n",
       "    .dataframe tbody tr th {\n",
       "        vertical-align: top;\n",
       "    }\n",
       "\n",
       "    .dataframe thead th {\n",
       "        text-align: right;\n",
       "    }\n",
       "</style>\n",
       "<table border=\"1\" class=\"dataframe\">\n",
       "  <thead>\n",
       "    <tr style=\"text-align: right;\">\n",
       "      <th></th>\n",
       "      <th>POSTNAME</th>\n",
       "      <th>AUTHOR</th>\n",
       "      <th>COMMENT</th>\n",
       "      <th>rejoined_tokenized_comments</th>\n",
       "      <th>sentiment</th>\n",
       "      <th>lemmatized</th>\n",
       "      <th>cleaned_text</th>\n",
       "    </tr>\n",
       "  </thead>\n",
       "  <tbody>\n",
       "    <tr>\n",
       "      <th>0</th>\n",
       "      <td>'Immaculate' Review Thread : r/boxoffice</td>\n",
       "      <td>Daydream_machine</td>\n",
       "      <td>Oof that’s admittedly lower than I expected. Disappointed to read that the film relies on cheap ...</td>\n",
       "      <td>oof admittedly lower expected disappointed read film relies cheap jump scare exactly expect horr...</td>\n",
       "      <td>negative</td>\n",
       "      <td>['oof', 'admittedly', 'lower', 'expected', 'disappointed', 'read', 'film', 'relies', 'cheap', 'j...</td>\n",
       "      <td>Oof that’s admittedly lower than I expected. Disappointed to read that the film relies on cheap ...</td>\n",
       "    </tr>\n",
       "    <tr>\n",
       "      <th>1</th>\n",
       "      <td>'Immaculate' Review Thread : r/boxoffice</td>\n",
       "      <td>Interesting_Tie_1870</td>\n",
       "      <td>There is a scene towards the beginning of the movie that does feature a red flashing light. It’s...</td>\n",
       "      <td>scene towards beginning movie feature red flashing light relatively brief easy avoid believe occurs</td>\n",
       "      <td>positive</td>\n",
       "      <td>['scene', 'towards', 'beginning', 'movie', 'feature', 'red', 'flashing', 'light', 'relatively', ...</td>\n",
       "      <td>There is a scene towards the beginning of the movie that does feature a red flashing light. It’s...</td>\n",
       "    </tr>\n",
       "  </tbody>\n",
       "</table>\n",
       "</div>"
      ],
      "text/plain": [
       "                                   POSTNAME                AUTHOR  \\\n",
       "0  'Immaculate' Review Thread : r/boxoffice      Daydream_machine   \n",
       "1  'Immaculate' Review Thread : r/boxoffice  Interesting_Tie_1870   \n",
       "\n",
       "                                                                                               COMMENT  \\\n",
       "0  Oof that’s admittedly lower than I expected. Disappointed to read that the film relies on cheap ...   \n",
       "1  There is a scene towards the beginning of the movie that does feature a red flashing light. It’s...   \n",
       "\n",
       "                                                                           rejoined_tokenized_comments  \\\n",
       "0  oof admittedly lower expected disappointed read film relies cheap jump scare exactly expect horr...   \n",
       "1  scene towards beginning movie feature red flashing light relatively brief easy avoid believe occurs   \n",
       "\n",
       "  sentiment  \\\n",
       "0  negative   \n",
       "1  positive   \n",
       "\n",
       "                                                                                            lemmatized  \\\n",
       "0  ['oof', 'admittedly', 'lower', 'expected', 'disappointed', 'read', 'film', 'relies', 'cheap', 'j...   \n",
       "1  ['scene', 'towards', 'beginning', 'movie', 'feature', 'red', 'flashing', 'light', 'relatively', ...   \n",
       "\n",
       "                                                                                          cleaned_text  \n",
       "0  Oof that’s admittedly lower than I expected. Disappointed to read that the film relies on cheap ...  \n",
       "1  There is a scene towards the beginning of the movie that does feature a red flashing light. It’s...  "
      ]
     },
     "execution_count": 13,
     "metadata": {},
     "output_type": "execute_result"
    }
   ],
   "source": [
    "df.head(2)"
   ]
  },
  {
   "cell_type": "code",
   "execution_count": 14,
   "id": "892279d9",
   "metadata": {},
   "outputs": [],
   "source": [
    "df = df.rename(columns = {'sentiment' : 'sentiment_class'})"
   ]
  },
  {
   "cell_type": "code",
   "execution_count": 15,
   "id": "7159b059",
   "metadata": {},
   "outputs": [
    {
     "data": {
      "text/html": [
       "<div>\n",
       "<style scoped>\n",
       "    .dataframe tbody tr th:only-of-type {\n",
       "        vertical-align: middle;\n",
       "    }\n",
       "\n",
       "    .dataframe tbody tr th {\n",
       "        vertical-align: top;\n",
       "    }\n",
       "\n",
       "    .dataframe thead th {\n",
       "        text-align: right;\n",
       "    }\n",
       "</style>\n",
       "<table border=\"1\" class=\"dataframe\">\n",
       "  <thead>\n",
       "    <tr style=\"text-align: right;\">\n",
       "      <th></th>\n",
       "      <th>POSTNAME</th>\n",
       "      <th>AUTHOR</th>\n",
       "      <th>COMMENT</th>\n",
       "      <th>rejoined_tokenized_comments</th>\n",
       "      <th>sentiment_class</th>\n",
       "      <th>lemmatized</th>\n",
       "      <th>cleaned_text</th>\n",
       "    </tr>\n",
       "  </thead>\n",
       "  <tbody>\n",
       "    <tr>\n",
       "      <th>0</th>\n",
       "      <td>'Immaculate' Review Thread : r/boxoffice</td>\n",
       "      <td>Daydream_machine</td>\n",
       "      <td>Oof that’s admittedly lower than I expected. Disappointed to read that the film relies on cheap ...</td>\n",
       "      <td>oof admittedly lower expected disappointed read film relies cheap jump scare exactly expect horr...</td>\n",
       "      <td>negative</td>\n",
       "      <td>['oof', 'admittedly', 'lower', 'expected', 'disappointed', 'read', 'film', 'relies', 'cheap', 'j...</td>\n",
       "      <td>Oof that’s admittedly lower than I expected. Disappointed to read that the film relies on cheap ...</td>\n",
       "    </tr>\n",
       "    <tr>\n",
       "      <th>1</th>\n",
       "      <td>'Immaculate' Review Thread : r/boxoffice</td>\n",
       "      <td>Interesting_Tie_1870</td>\n",
       "      <td>There is a scene towards the beginning of the movie that does feature a red flashing light. It’s...</td>\n",
       "      <td>scene towards beginning movie feature red flashing light relatively brief easy avoid believe occurs</td>\n",
       "      <td>positive</td>\n",
       "      <td>['scene', 'towards', 'beginning', 'movie', 'feature', 'red', 'flashing', 'light', 'relatively', ...</td>\n",
       "      <td>There is a scene towards the beginning of the movie that does feature a red flashing light. It’s...</td>\n",
       "    </tr>\n",
       "  </tbody>\n",
       "</table>\n",
       "</div>"
      ],
      "text/plain": [
       "                                   POSTNAME                AUTHOR  \\\n",
       "0  'Immaculate' Review Thread : r/boxoffice      Daydream_machine   \n",
       "1  'Immaculate' Review Thread : r/boxoffice  Interesting_Tie_1870   \n",
       "\n",
       "                                                                                               COMMENT  \\\n",
       "0  Oof that’s admittedly lower than I expected. Disappointed to read that the film relies on cheap ...   \n",
       "1  There is a scene towards the beginning of the movie that does feature a red flashing light. It’s...   \n",
       "\n",
       "                                                                           rejoined_tokenized_comments  \\\n",
       "0  oof admittedly lower expected disappointed read film relies cheap jump scare exactly expect horr...   \n",
       "1  scene towards beginning movie feature red flashing light relatively brief easy avoid believe occurs   \n",
       "\n",
       "  sentiment_class  \\\n",
       "0        negative   \n",
       "1        positive   \n",
       "\n",
       "                                                                                            lemmatized  \\\n",
       "0  ['oof', 'admittedly', 'lower', 'expected', 'disappointed', 'read', 'film', 'relies', 'cheap', 'j...   \n",
       "1  ['scene', 'towards', 'beginning', 'movie', 'feature', 'red', 'flashing', 'light', 'relatively', ...   \n",
       "\n",
       "                                                                                          cleaned_text  \n",
       "0  Oof that’s admittedly lower than I expected. Disappointed to read that the film relies on cheap ...  \n",
       "1  There is a scene towards the beginning of the movie that does feature a red flashing light. It’s...  "
      ]
     },
     "execution_count": 15,
     "metadata": {},
     "output_type": "execute_result"
    }
   ],
   "source": [
    "df.head(2)"
   ]
  },
  {
   "cell_type": "code",
   "execution_count": 16,
   "id": "71d84714",
   "metadata": {},
   "outputs": [],
   "source": [
    "final_df = df[['sentiment_class', 'cleaned_text']]"
   ]
  },
  {
   "cell_type": "code",
   "execution_count": 17,
   "id": "ab9679e6",
   "metadata": {},
   "outputs": [
    {
     "data": {
      "text/html": [
       "<div>\n",
       "<style scoped>\n",
       "    .dataframe tbody tr th:only-of-type {\n",
       "        vertical-align: middle;\n",
       "    }\n",
       "\n",
       "    .dataframe tbody tr th {\n",
       "        vertical-align: top;\n",
       "    }\n",
       "\n",
       "    .dataframe thead th {\n",
       "        text-align: right;\n",
       "    }\n",
       "</style>\n",
       "<table border=\"1\" class=\"dataframe\">\n",
       "  <thead>\n",
       "    <tr style=\"text-align: right;\">\n",
       "      <th></th>\n",
       "      <th>sentiment_class</th>\n",
       "      <th>cleaned_text</th>\n",
       "    </tr>\n",
       "  </thead>\n",
       "  <tbody>\n",
       "    <tr>\n",
       "      <th>0</th>\n",
       "      <td>negative</td>\n",
       "      <td>Oof that’s admittedly lower than I expected. Disappointed to read that the film relies on cheap ...</td>\n",
       "    </tr>\n",
       "    <tr>\n",
       "      <th>1</th>\n",
       "      <td>positive</td>\n",
       "      <td>There is a scene towards the beginning of the movie that does feature a red flashing light. It’s...</td>\n",
       "    </tr>\n",
       "  </tbody>\n",
       "</table>\n",
       "</div>"
      ],
      "text/plain": [
       "  sentiment_class  \\\n",
       "0        negative   \n",
       "1        positive   \n",
       "\n",
       "                                                                                          cleaned_text  \n",
       "0  Oof that’s admittedly lower than I expected. Disappointed to read that the film relies on cheap ...  \n",
       "1  There is a scene towards the beginning of the movie that does feature a red flashing light. It’s...  "
      ]
     },
     "execution_count": 17,
     "metadata": {},
     "output_type": "execute_result"
    }
   ],
   "source": [
    "final_df.head(2)"
   ]
  },
  {
   "cell_type": "code",
   "execution_count": 18,
   "id": "a27c7d8e",
   "metadata": {},
   "outputs": [],
   "source": [
    "final_df.to_csv(r\"F:\\Kabir\\CSUN\\R\\BERT_Preprocessed.csv\", index = False)"
   ]
  }
 ],
 "metadata": {
  "kernelspec": {
   "display_name": "Python 3 (ipykernel)",
   "language": "python",
   "name": "python3"
  },
  "language_info": {
   "codemirror_mode": {
    "name": "ipython",
    "version": 3
   },
   "file_extension": ".py",
   "mimetype": "text/x-python",
   "name": "python",
   "nbconvert_exporter": "python",
   "pygments_lexer": "ipython3",
   "version": "3.11.4"
  }
 },
 "nbformat": 4,
 "nbformat_minor": 5
}
